{
  "nbformat": 4,
  "nbformat_minor": 0,
  "metadata": {
    "colab": {
      "provenance": []
    },
    "kernelspec": {
      "name": "python3",
      "display_name": "Python 3"
    },
    "language_info": {
      "name": "python"
    }
  },
  "cells": [
    {
      "cell_type": "markdown",
      "source": [
        "# Files, exceptional handling, logging and\n",
        "# memory management Questions\n",
        "\n"
      ],
      "metadata": {
        "id": "mfMfggn3i6pa"
      }
    },
    {
      "cell_type": "markdown",
      "source": [
        "1. What is the difference between interpreted and compiled languages?\n",
        "\n",
        "Answer --> difference between interpreted and compiled languages-\n",
        "\n",
        "Interpreted: Code is executed line by line (e.g., Python, JavaScript).\n",
        "\n",
        "Compiled: Code is converted into machine code before execution (e.g., C, C++)."
      ],
      "metadata": {
        "id": "aVWaYKJVi6mh"
      }
    },
    {
      "cell_type": "markdown",
      "source": [
        "2. What is exception handling in Python?\n",
        "\n",
        "Answer -->Exception handling is a way to handle runtime errors using try-except.\n",
        "\n",
        "Example:\n",
        "\n",
        "try:\n",
        "\n",
        "    x = 10 / 0\n",
        "\n",
        "except ZeroDivisionError:\n",
        "\n",
        "    print(\"Cannot divide by zero!\")"
      ],
      "metadata": {
        "id": "RiD-XCmFi6i6"
      }
    },
    {
      "cell_type": "markdown",
      "source": [
        "3. What is the purpose of the finally block in exception handling?\n",
        "\n",
        "Answer --> The finally block always executes (whether an exception occurs or not).\n",
        "\n",
        "Example:\n",
        "\n",
        " try:\n",
        "\n",
        "    f = open(\"file.txt\")\n",
        "\n",
        "except FileNotFoundError:\n",
        "\n",
        "    print(\"File not found\")\n",
        "\n",
        "finally:\n",
        "\n",
        "    print(\"This will always run\")"
      ],
      "metadata": {
        "id": "Sqc9NSaVi6fh"
      }
    },
    {
      "cell_type": "markdown",
      "source": [
        "4. What is logging in Python?\n",
        "\n",
        "Answer --> Logging is used to record events/messages during program execution for debugging or tracking.\n",
        "\n",
        "Example:\n",
        "\n",
        "import logging\n",
        "\n",
        "logging.basicConfig(level=logging.INFO)\n",
        "\n",
        "logging.info(\"Program started\")"
      ],
      "metadata": {
        "id": "3gl4fgSAi6b_"
      }
    },
    {
      "cell_type": "markdown",
      "source": [
        "5. What is the significance of the __del__ method in Python?\n",
        "\n",
        "Answe--> __del__ is a destructor method, called when an object is about to be deleted.\n",
        "Example:\n",
        "\n",
        "class Demo:\n",
        "\n",
        "    def __del__(self):\n",
        "        print(\"Object destroyed\")\n"
      ],
      "metadata": {
        "id": "p1DTplyZi6Y4"
      }
    },
    {
      "cell_type": "markdown",
      "source": [
        "6. What is the difference between import and from ... import in Python?\n",
        "\n",
        "Answer-->difference between import and from ... import\n",
        "import ->imports the whole module and requires the module name when accessing items\n",
        "from ... ->import imports specific items so they can be used directly."
      ],
      "metadata": {
        "id": "gu7qKMSUi6VY"
      }
    },
    {
      "cell_type": "markdown",
      "source": [
        "7. How can you handle multiple exceptions in Python?\n",
        "\n",
        "Answer--> Use multiple except blocks or a tuple.\n",
        "\n",
        "Example:\n",
        "\n",
        "try:\n",
        "\n",
        "    x = int(\"abc\")\n",
        "\n",
        "except (ValueError, TypeError) as e:\n",
        "\n",
        "    print(\"Error:\", e)"
      ],
      "metadata": {
        "id": "8_0L0WqAi6Rv"
      }
    },
    {
      "cell_type": "markdown",
      "source": [
        "8. What is the purpose of the with statement when handling files in Python?\n",
        "\n",
        "Answer --> It automatically closes the file after use.\n",
        "\n",
        "Example:\n",
        "\n",
        "with open(\"test.txt\", \"r\") as f:\n",
        "\n",
        "    data = f.read()"
      ],
      "metadata": {
        "id": "bzgLhb0hi6Ow"
      }
    },
    {
      "cell_type": "markdown",
      "source": [
        "9. What is the difference between multithreading and multiprocessing?\n",
        "\n",
        "Answer --> difference between multithreading and multiprocessing\n",
        "\n",
        "Multithreading: Multiple threads run within the same process (share memory).\n",
        "\n",
        "Multiprocessing: Multiple processes run separately (separate memory)."
      ],
      "metadata": {
        "id": "IazJEaGqi6LA"
      }
    },
    {
      "cell_type": "markdown",
      "source": [
        "10. What are the advantages of using logging in a program?\n",
        "\n",
        "Answer --> Advantages of using logging in a program-\n",
        "\n",
        "Keeps history of program execution\n",
        "\n",
        "Helps debug issues\n",
        "\n",
        "Can set different severity levels"
      ],
      "metadata": {
        "id": "zQILvi_Di6HI"
      }
    },
    {
      "cell_type": "markdown",
      "source": [
        "11. What is memory management in Python?\n",
        "\n",
        "Answer --> Python manages memory automatically using reference counting + garbage collection."
      ],
      "metadata": {
        "id": "_g-KoOL6i5_A"
      }
    },
    {
      "cell_type": "markdown",
      "source": [
        "12. What are the basic steps involved in exception handling in Python?\n",
        "\n",
        "Answer --> steps involved in exception handling in Python\n",
        "\n",
        "try → code that may raise error\n",
        "\n",
        "except → handle error\n",
        "\n",
        "else → run if no error\n",
        "\n",
        "finally → always runs"
      ],
      "metadata": {
        "id": "8w7RIODZi56A"
      }
    },
    {
      "cell_type": "markdown",
      "source": [
        "13. Why is memory management important in Python?\n",
        "\n",
        "Answer --> memory management is important because\n",
        "is Prevents memory leaks\n",
        "and Ensures efficient use of system resources\n",
        "\n"
      ],
      "metadata": {
        "id": "R2TYk-eNi5xw"
      }
    },
    {
      "cell_type": "markdown",
      "source": [
        "14. What is the role of try and except in exception handling?\n",
        "\n",
        "Answer --> try: Code block to test for errors\n",
        "\n",
        "except: Code block to handle errors"
      ],
      "metadata": {
        "id": "jPLZlzjrk2uw"
      }
    },
    {
      "cell_type": "markdown",
      "source": [
        "15. How does Python's garbage collection system work?\n",
        "\n",
        "Answer --> Uses reference counting (when count = 0, object is deleted).\n",
        "\n",
        "Also uses cycle detector for circular references."
      ],
      "metadata": {
        "id": "lHBjLlbck5Zp"
      }
    },
    {
      "cell_type": "markdown",
      "source": [
        "16. What is the purpose of the else block in exception handling?\n",
        "\n",
        "Answer --> The else block runs only if no exception occurs.\n",
        "\n",
        "Example:\n",
        "\n",
        "try:\n",
        "\n",
        "    x = 5 / 1\n",
        "\n",
        "except ZeroDivisionError:\n",
        "\n",
        "    print(\"Error\")\n",
        "\n",
        "else:\n",
        "\n",
        "    print(\"No error occurred\")"
      ],
      "metadata": {
        "id": "XRMQQu-Gk78w"
      }
    },
    {
      "cell_type": "markdown",
      "source": [
        "17. What are the common logging levels in Python?\n",
        "\n",
        "Answer --> DEBUG → detailed info\n",
        "\n",
        "INFO → general info\n",
        "\n",
        "WARNING → warning message\n",
        "\n",
        "ERROR → error occurred\n",
        "\n",
        "CRITICAL → serious error"
      ],
      "metadata": {
        "id": "Bgc9enmAk-OR"
      }
    },
    {
      "cell_type": "markdown",
      "source": [
        "18. What is the difference between os.fork() and multiprocessing in Python?\n",
        "\n",
        "Answer --> os.fork() → Unix only, creates child process at OS level.\n",
        "\n",
        "multiprocessing → Cross-platform module, easier to use, works on Windows/Linux."
      ],
      "metadata": {
        "id": "AYRitD87lAvQ"
      }
    },
    {
      "cell_type": "markdown",
      "source": [
        "19. What is the importance of closing a file in Python?\n",
        "\n",
        "Frees up system resources\n",
        "\n",
        "Ensures data is saved properly\n",
        "\n",
        "Example:\n",
        "\n",
        "f = open(\"test.txt\", \"w\")\n",
        "\n",
        "f.write(\"Hello\")\n",
        "\n",
        "f.close()"
      ],
      "metadata": {
        "id": "qKmk0fr0lDmR"
      }
    },
    {
      "cell_type": "markdown",
      "source": [
        "20. What is the difference between file.read() and file.readline() in Python?\n",
        "\n",
        "Answer --> read() → reads entire file\n",
        "\n",
        "readline() → reads one line at a time"
      ],
      "metadata": {
        "id": "8GkF4tk4lFtQ"
      }
    },
    {
      "cell_type": "markdown",
      "source": [
        "21. What is the logging module in Python used for?\n",
        "\n",
        "Answer --> The logging module is used to record program execution details such as errors, warnings, and information. It helps in debugging and monitoring applications.\n",
        "Example:\n",
        "\n",
        "import logging\n",
        "\n",
        "logging.basicConfig(level=logging.INFO)\n",
        "\n",
        "logging.info(\"Program started\")\n",
        "\n",
        "logging.warning(\"Low disk space!\")"
      ],
      "metadata": {
        "id": "5h1PKBWQlM6Z"
      }
    },
    {
      "cell_type": "markdown",
      "source": [
        "22. What is the os module in Python used for in file handling?\n",
        "\n",
        "Answer --> The os module provides functions to interact with the operating system, including file handling (create, delete, rename, check paths).\n",
        "\n",
        "Example:\n",
        "\n",
        "import os\n",
        "\n",
        "print(os.getcwd())           # get current directory\n",
        "\n",
        "os.rename(\"old.txt\", \"new.txt\")  # rename a file"
      ],
      "metadata": {
        "id": "MXkav_jllN3I"
      }
    },
    {
      "cell_type": "markdown",
      "source": [
        "23. What are the challenges associated with memory management in Python?\n",
        "\n",
        "Answer --> Garbage collection overhead (can slow programs)\n",
        "\n",
        "Reference cycles (objects referring to each other)\n",
        "\n",
        "Large data structures may consume too much memory\n",
        "\n",
        "Global variables may stay in memory longer than needed"
      ],
      "metadata": {
        "id": "-EQib1l-lQYi"
      }
    },
    {
      "cell_type": "markdown",
      "source": [
        "24. How do you raise an exception manually in Python?\n",
        "\n",
        "Answer --> Use the raise keyword.\n",
        "\n",
        "Example:\n",
        "\n",
        "x = -5\n",
        "\n",
        "if x < 0:\n",
        "\n",
        "    raise ValueError(\"Negative values are not allowed\")"
      ],
      "metadata": {
        "id": "Ef4y1ksPlS4w"
      }
    },
    {
      "cell_type": "markdown",
      "source": [
        "25. Why is it important to use multithreading in certain applications?\n",
        "\n",
        "Answer --> Helps run multiple tasks concurrently\n",
        "\n",
        "Improves performance in I/O-bound tasks (e.g., downloading files, handling multiple users)\n",
        "\n",
        "Makes applications more responsive\n",
        "\n",
        "Example use cases:\n",
        "\n",
        "Web servers handling many requests\n",
        "\n",
        "GUI apps (UI remains responsive while background task runs)"
      ],
      "metadata": {
        "id": "FR6mjg45lWwS"
      }
    },
    {
      "cell_type": "markdown",
      "source": [
        "# Practical Questions"
      ],
      "metadata": {
        "id": "Di3k8SzZlZYB"
      }
    },
    {
      "cell_type": "code",
      "execution_count": 2,
      "metadata": {
        "id": "VtW1EQ6xOD_W"
      },
      "outputs": [],
      "source": [
        "# 1 How can you open a file for writing in Python and write a string to it\n",
        "\n",
        "with open(\"output.txt\", \"w\") as f:\n",
        "    f.write(\"Hello, this is Sneha's file.\")"
      ]
    },
    {
      "cell_type": "code",
      "source": [
        "# 2. Write a Python program to read the contents of a file and print each lineF\n",
        "\n",
        "with open(\"output.txt\", \"r\") as f:\n",
        "    for line in f:\n",
        "        print(line.strip())"
      ],
      "metadata": {
        "colab": {
          "base_uri": "https://localhost:8080/"
        },
        "id": "LPf2p6Pxu8X8",
        "outputId": "f011a89d-d5a9-441a-bd2f-e20ffd727baa"
      },
      "execution_count": 3,
      "outputs": [
        {
          "output_type": "stream",
          "name": "stdout",
          "text": [
            "Hello, this is Sneha's file.\n"
          ]
        }
      ]
    },
    {
      "cell_type": "code",
      "source": [
        "# 3. How would you handle a case where the file doesn't exist while trying to open it for reading\n",
        "try:\n",
        "    with open(\"nofile.txt\", \"r\") as f:\n",
        "        print(f.read())\n",
        "except FileNotFoundError:\n",
        "    print(\"File does not exist!\")"
      ],
      "metadata": {
        "colab": {
          "base_uri": "https://localhost:8080/"
        },
        "id": "KAbcEC1nu8U4",
        "outputId": "6a8e5555-5bc9-40cc-f9dd-1d86054cbe24"
      },
      "execution_count": 4,
      "outputs": [
        {
          "output_type": "stream",
          "name": "stdout",
          "text": [
            "File does not exist!\n"
          ]
        }
      ]
    },
    {
      "cell_type": "code",
      "source": [
        "# 4. Write a Python script that reads from one file and writes its content to another file\n",
        "\n",
        "with open(\"source.txt\", \"r\") as f1, open(\"destination.txt\", \"w\") as f2:\n",
        "    f2.write(f1.read())"
      ],
      "metadata": {
        "colab": {
          "base_uri": "https://localhost:8080/",
          "height": 193
        },
        "collapsed": true,
        "id": "2oFBH65_u8Rs",
        "outputId": "b48d79e3-5253-45d8-c50b-4694caadb93f"
      },
      "execution_count": 5,
      "outputs": [
        {
          "output_type": "error",
          "ename": "FileNotFoundError",
          "evalue": "[Errno 2] No such file or directory: 'source.txt'",
          "traceback": [
            "\u001b[0;31m---------------------------------------------------------------------------\u001b[0m",
            "\u001b[0;31mFileNotFoundError\u001b[0m                         Traceback (most recent call last)",
            "\u001b[0;32m/tmp/ipython-input-100782803.py\u001b[0m in \u001b[0;36m<cell line: 0>\u001b[0;34m()\u001b[0m\n\u001b[1;32m      1\u001b[0m \u001b[0;31m# 4. Write a Python script that reads from one file and writes its content to another file\u001b[0m\u001b[0;34m\u001b[0m\u001b[0;34m\u001b[0m\u001b[0m\n\u001b[1;32m      2\u001b[0m \u001b[0;34m\u001b[0m\u001b[0m\n\u001b[0;32m----> 3\u001b[0;31m \u001b[0;32mwith\u001b[0m \u001b[0mopen\u001b[0m\u001b[0;34m(\u001b[0m\u001b[0;34m\"source.txt\"\u001b[0m\u001b[0;34m,\u001b[0m \u001b[0;34m\"r\"\u001b[0m\u001b[0;34m)\u001b[0m \u001b[0;32mas\u001b[0m \u001b[0mf1\u001b[0m\u001b[0;34m,\u001b[0m \u001b[0mopen\u001b[0m\u001b[0;34m(\u001b[0m\u001b[0;34m\"destination.txt\"\u001b[0m\u001b[0;34m,\u001b[0m \u001b[0;34m\"w\"\u001b[0m\u001b[0;34m)\u001b[0m \u001b[0;32mas\u001b[0m \u001b[0mf2\u001b[0m\u001b[0;34m:\u001b[0m\u001b[0;34m\u001b[0m\u001b[0;34m\u001b[0m\u001b[0m\n\u001b[0m\u001b[1;32m      4\u001b[0m     \u001b[0mf2\u001b[0m\u001b[0;34m.\u001b[0m\u001b[0mwrite\u001b[0m\u001b[0;34m(\u001b[0m\u001b[0mf1\u001b[0m\u001b[0;34m.\u001b[0m\u001b[0mread\u001b[0m\u001b[0;34m(\u001b[0m\u001b[0;34m)\u001b[0m\u001b[0;34m)\u001b[0m\u001b[0;34m\u001b[0m\u001b[0;34m\u001b[0m\u001b[0m\n",
            "\u001b[0;31mFileNotFoundError\u001b[0m: [Errno 2] No such file or directory: 'source.txt'"
          ]
        }
      ]
    },
    {
      "cell_type": "code",
      "source": [
        "# 5. How would you catch and handle division by zero error in Python\n",
        "\n",
        "try:\n",
        "    result = 10 / 0\n",
        "except ZeroDivisionError:\n",
        "    print(\"You cannot divide by zero!\")"
      ],
      "metadata": {
        "colab": {
          "base_uri": "https://localhost:8080/"
        },
        "id": "rJRXnThhu8OZ",
        "outputId": "fde9571a-48ca-45fe-fd7f-413c202de7b4"
      },
      "execution_count": 19,
      "outputs": [
        {
          "output_type": "stream",
          "name": "stdout",
          "text": [
            "You cannot divide by zero!\n"
          ]
        }
      ]
    },
    {
      "cell_type": "code",
      "source": [
        "# 6. Write a Python program that logs an error message to a log file when a division by zero exception occurs\n",
        "\n",
        "import logging\n",
        "logging.basicConfig(filename=\"errors.log\", level=logging.ERROR)\n",
        "\n",
        "try:\n",
        "    result = 10 / 0\n",
        "except ZeroDivisionError:\n",
        "    logging.error(\"Division by zero error occurred\")"
      ],
      "metadata": {
        "colab": {
          "base_uri": "https://localhost:8080/"
        },
        "id": "gC9RR0cJu8IS",
        "outputId": "9e8537bc-05a5-4086-ffce-c138d73c5285"
      },
      "execution_count": 20,
      "outputs": [
        {
          "output_type": "stream",
          "name": "stderr",
          "text": [
            "ERROR:root:Division by zero error occurred\n"
          ]
        }
      ]
    },
    {
      "cell_type": "code",
      "source": [
        "# 7. How do you log information at different levels (INFO, ERROR, WARNING) in Python using the logging module\n",
        "\n",
        "import logging\n",
        "logging.basicConfig(level=logging.DEBUG)\n",
        "\n",
        "logging.info(\"This is an info message\")\n",
        "logging.warning(\"This is a warning message\")\n",
        "logging.error(\"This is an error message\")"
      ],
      "metadata": {
        "colab": {
          "base_uri": "https://localhost:8080/"
        },
        "id": "ynoohdYMu8FA",
        "outputId": "826ec694-4df3-4b5e-f4b0-07164d6f3088"
      },
      "execution_count": 21,
      "outputs": [
        {
          "output_type": "stream",
          "name": "stderr",
          "text": [
            "WARNING:root:This is a warning message\n",
            "ERROR:root:This is an error message\n"
          ]
        }
      ]
    },
    {
      "cell_type": "code",
      "source": [
        "# 8. Write a program to handle a file opening error using exception handling\n",
        "\n",
        "try:\n",
        "    f = open(\"unknown.txt\", \"r\")\n",
        "except FileNotFoundError:\n",
        "    print(\"File could not be opened\")"
      ],
      "metadata": {
        "colab": {
          "base_uri": "https://localhost:8080/"
        },
        "id": "QZ5CymStu8By",
        "outputId": "796a9f6a-28fd-42d5-bc47-7aa9adf091f5"
      },
      "execution_count": 22,
      "outputs": [
        {
          "output_type": "stream",
          "name": "stdout",
          "text": [
            "File could not be opened\n"
          ]
        }
      ]
    },
    {
      "cell_type": "code",
      "source": [
        "# 9. How can you read a file line by line and store its content in a list in Python\n",
        "\n",
        "with open(\"output.txt\", \"r\") as f:\n",
        "    lines = f.readlines()\n",
        "\n",
        "print(lines)"
      ],
      "metadata": {
        "colab": {
          "base_uri": "https://localhost:8080/"
        },
        "id": "vb2_04Vdu7-w",
        "outputId": "c4662666-6249-4c09-daec-98283ee9d6ba"
      },
      "execution_count": 23,
      "outputs": [
        {
          "output_type": "stream",
          "name": "stdout",
          "text": [
            "[\"Hello, this is Sneha's file.\"]\n"
          ]
        }
      ]
    },
    {
      "cell_type": "code",
      "source": [
        "# 10. How can you append data to an existing file in Python\n",
        "\n",
        "with open(\"output.txt\", \"a\") as f:\n",
        "    f.write(\"\\nThis is appended text.\")"
      ],
      "metadata": {
        "id": "2_0H6c5vu77i"
      },
      "execution_count": 24,
      "outputs": []
    },
    {
      "cell_type": "code",
      "source": [
        "# 11. F Write a Python program that uses a try-except block to handle an error when attempting to access a\n",
        "# dictionary key that doesn't exist\n",
        "data = {\"name\": \"Sneha\"}\n",
        "try:\n",
        "    print(data[\"age\"])\n",
        "except KeyError:\n",
        "    print(\"Key does not exist!\")"
      ],
      "metadata": {
        "colab": {
          "base_uri": "https://localhost:8080/"
        },
        "id": "eITWuXfUu74B",
        "outputId": "6e9bf771-0979-4d79-daeb-6622c7fc80f0"
      },
      "execution_count": 6,
      "outputs": [
        {
          "output_type": "stream",
          "name": "stdout",
          "text": [
            "Key does not exist!\n"
          ]
        }
      ]
    },
    {
      "cell_type": "code",
      "source": [
        "# 12. Write a program that demonstrates using multiple except blocks to handle different types of exceptions\n",
        "try:\n",
        "    x = int(\"abc\")\n",
        "    y = 10 / 0\n",
        "except ValueError:\n",
        "    print(\"Value error occurred\")\n",
        "except ZeroDivisionError:\n",
        "    print(\"Cannot divide by zero\")\n"
      ],
      "metadata": {
        "colab": {
          "base_uri": "https://localhost:8080/"
        },
        "id": "uHB1Milju70R",
        "outputId": "7003fdad-e379-4987-8f51-43a2cf9142a3"
      },
      "execution_count": 7,
      "outputs": [
        {
          "output_type": "stream",
          "name": "stdout",
          "text": [
            "Value error occurred\n"
          ]
        }
      ]
    },
    {
      "cell_type": "code",
      "source": [
        "# 13. How would you check if a file exists before attempting to read it in Python\n",
        "\n",
        "import os\n",
        "\n",
        "if os.path.exists(\"output.txt\"):\n",
        "    with open(\"output.txt\", \"r\") as f:\n",
        "        print(f.read())\n",
        "else:\n",
        "    print(\"File not found\")"
      ],
      "metadata": {
        "colab": {
          "base_uri": "https://localhost:8080/"
        },
        "id": "wJYLQtGWu7wH",
        "outputId": "b489272c-04d3-4905-c54c-8f66e19f761e"
      },
      "execution_count": 8,
      "outputs": [
        {
          "output_type": "stream",
          "name": "stdout",
          "text": [
            "Hello, this is Sneha's file.\n"
          ]
        }
      ]
    },
    {
      "cell_type": "code",
      "source": [
        "# 14. Write a program that uses the logging module to log both informational and error messages\n",
        "\n",
        "import logging\n",
        "logging.basicConfig(filename=\"app.log\", level=logging.INFO)\n",
        "\n",
        "logging.info(\"Program started successfully\")\n",
        "logging.error(\"An error occurred\")\n"
      ],
      "metadata": {
        "colab": {
          "base_uri": "https://localhost:8080/"
        },
        "id": "DjwPYw7fvr9o",
        "outputId": "c92d5039-1564-4aa1-89fc-5814e236dad7"
      },
      "execution_count": 9,
      "outputs": [
        {
          "output_type": "stream",
          "name": "stderr",
          "text": [
            "ERROR:root:An error occurred\n"
          ]
        }
      ]
    },
    {
      "cell_type": "code",
      "source": [
        "# 15.Write a Python program that prints the content of a file and handles the case when the file is empty\n",
        "with open(\"output.txt\", \"r\") as f:\n",
        "    content = f.read()\n",
        "\n",
        "if content:\n",
        "    print(content)\n",
        "else:\n",
        "    print(\"File is empty\")"
      ],
      "metadata": {
        "colab": {
          "base_uri": "https://localhost:8080/"
        },
        "id": "kAmunskCvrzI",
        "outputId": "5468ebbf-585c-4ce8-fbe9-133fae8ef8c7"
      },
      "execution_count": 10,
      "outputs": [
        {
          "output_type": "stream",
          "name": "stdout",
          "text": [
            "Hello, this is Sneha's file.\n"
          ]
        }
      ]
    },
    {
      "cell_type": "code",
      "source": [
        "# 16.  Demonstrate how to use memory profiling to check the memory usage of a small program\n",
        "import sys\n",
        "\n",
        "numbers = [i for i in range(1000)]\n",
        "print(\"Memory used:\", sys.getsizeof(numbers), \"bytes\")"
      ],
      "metadata": {
        "colab": {
          "base_uri": "https://localhost:8080/"
        },
        "id": "LXOKu_lMvrpI",
        "outputId": "598ec6dd-ccd3-4d95-eef0-06903e410223"
      },
      "execution_count": 11,
      "outputs": [
        {
          "output_type": "stream",
          "name": "stdout",
          "text": [
            "Memory used: 8856 bytes\n"
          ]
        }
      ]
    },
    {
      "cell_type": "code",
      "source": [
        "# 17. Write a Python program to create and write a list of numbers to a file, one number per line\n",
        "\n",
        "numbers = [1, 2, 3, 4, 5]\n",
        "with open(\"numbers.txt\", \"w\") as f:\n",
        "    for n in numbers:\n",
        "        f.write(str(n) + \"\\n\")"
      ],
      "metadata": {
        "id": "Ym6y3jycvreh"
      },
      "execution_count": 12,
      "outputs": []
    },
    {
      "cell_type": "code",
      "source": [
        "# 18.  How would you implement a basic logging setup that logs to a file with rotation after 1MB\n",
        "import logging\n",
        "from logging.handlers import RotatingFileHandler\n",
        "\n",
        "handler = RotatingFileHandler(\"rotating.log\", maxBytes=1000000, backupCount=3)\n",
        "logging.basicConfig(handlers=[handler], level=logging.INFO)\n",
        "\n",
        "logging.info(\"This is a log with rotation setup\")"
      ],
      "metadata": {
        "id": "q6RnjJPZvrMR"
      },
      "execution_count": 13,
      "outputs": []
    },
    {
      "cell_type": "code",
      "source": [
        "# 19. Write a program that handles both IndexError and KeyError using a try-except block\n",
        "\n",
        "try:\n",
        "    lst = [1, 2, 3]\n",
        "    print(lst[5])  # IndexError\n",
        "    d = {\"a\": 1}\n",
        "    print(d[\"b\"])  # KeyError\n",
        "except IndexError:\n",
        "    print(\"Index out of range\")\n",
        "except KeyError:\n",
        "    print(\"Key not found\")"
      ],
      "metadata": {
        "colab": {
          "base_uri": "https://localhost:8080/"
        },
        "id": "KoZYO09EvrBB",
        "outputId": "6338cd15-7734-462a-d161-2a1690bd3fc5"
      },
      "execution_count": 14,
      "outputs": [
        {
          "output_type": "stream",
          "name": "stdout",
          "text": [
            "Index out of range\n"
          ]
        }
      ]
    },
    {
      "cell_type": "code",
      "source": [
        "# 20. How would you open a file and read its contents using a context manager in Python\n",
        "with open(\"output.txt\", \"r\") as f:\n",
        "    print(f.read())"
      ],
      "metadata": {
        "colab": {
          "base_uri": "https://localhost:8080/"
        },
        "id": "HyuBM4Itvq3Q",
        "outputId": "07736849-b0ee-49d7-a6fe-73f31e790ba9"
      },
      "execution_count": 15,
      "outputs": [
        {
          "output_type": "stream",
          "name": "stdout",
          "text": [
            "Hello, this is Sneha's file.\n"
          ]
        }
      ]
    },
    {
      "cell_type": "code",
      "source": [
        "# 21. Write a Python program that reads a file and prints the number of occurrences of a specific word\n",
        "\n",
        "\n",
        "word = \"Python\"\n",
        "count = 0\n",
        "with open(\"output.txt\", \"r\") as f:\n",
        "    for line in f:\n",
        "        count += line.split().count(word)\n",
        "\n",
        "print(f\"The word '{word}' occurs {count} times\")"
      ],
      "metadata": {
        "colab": {
          "base_uri": "https://localhost:8080/"
        },
        "id": "rNwjEZZ0vqsS",
        "outputId": "cb0eacad-80cb-4f15-95da-deb943815894"
      },
      "execution_count": 16,
      "outputs": [
        {
          "output_type": "stream",
          "name": "stdout",
          "text": [
            "The word 'Python' occurs 0 times\n"
          ]
        }
      ]
    },
    {
      "cell_type": "code",
      "source": [
        "# 22.  How can you check if a file is empty before attempting to read its contents\n",
        "\n",
        "import os\n",
        "\n",
        "if os.path.getsize(\"output.txt\") == 0:\n",
        "    print(\"File is empty\")\n",
        "else:\n",
        "    with open(\"output.txt\", \"r\") as f:\n",
        "        print(f.read())"
      ],
      "metadata": {
        "colab": {
          "base_uri": "https://localhost:8080/"
        },
        "id": "JqmIcxABvqjg",
        "outputId": "ae36db14-e6cb-4394-a19f-34d6c43f3164"
      },
      "execution_count": 17,
      "outputs": [
        {
          "output_type": "stream",
          "name": "stdout",
          "text": [
            "Hello, this is Sneha's file.\n"
          ]
        }
      ]
    },
    {
      "cell_type": "code",
      "source": [
        "# 23. Write a Python program that writes to a log file when an error occurs during file handling\n",
        "\n",
        "import logging\n",
        "logging.basicConfig(filename=\"file_errors.log\", level=logging.ERROR)\n",
        "\n",
        "try:\n",
        "    with open(\"nofile.txt\", \"r\") as f:\n",
        "        data = f.read()\n",
        "except FileNotFoundError as e:\n",
        "    logging.error(\"File handling error: %s\", e)"
      ],
      "metadata": {
        "colab": {
          "base_uri": "https://localhost:8080/"
        },
        "id": "XgVQtZ3SvqbB",
        "outputId": "198e5898-b2e4-4ba9-b679-937476677413"
      },
      "execution_count": 18,
      "outputs": [
        {
          "output_type": "stream",
          "name": "stderr",
          "text": [
            "ERROR:root:File handling error: [Errno 2] No such file or directory: 'nofile.txt'\n"
          ]
        }
      ]
    }
  ]
}